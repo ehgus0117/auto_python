{
 "cells": [
  {
   "cell_type": "code",
   "execution_count": 8,
   "metadata": {},
   "outputs": [],
   "source": [
    "import requests\n",
    "from bs4 import BeautifulSoup\n",
    "\n",
    "\n",
    "url1 = 'https://finance.naver.com/item/main.naver?code='\n",
    "codeLst = []"
   ]
  },
  {
   "cell_type": "code",
   "execution_count": 24,
   "metadata": {},
   "outputs": [
    {
     "data": {
      "text/plain": [
       "<div class=\"wrap_company\">\n",
       "<h2><a href=\"#\" onclick=\"clickcr(this, 'sop.title', '', '', event);window.location.reload();\">유진스팩10호</a></h2>\n",
       "<div class=\"description\">\n",
       "<span class=\"code\">468760</span>\n",
       "<img alt=\"코스닥\" class=\"kosdaq\" height=\"16\" src=\"https://ssl.pstatic.net/imgstock/item_renewal/btn_kosdaq.gif\" width=\"33\"/>\n",
       "<span class=\"blind\">날짜</span>\n",
       "<span id=\"time\">\n",
       "<em class=\"date\">2024.02.29 <span>기준(장마감)</span></em>\n",
       "</span>\n",
       "<em class=\"realtime\">\n",
       "<span class=\"blind\">실시간</span>\n",
       "</em>\n",
       "</div>\n",
       "</div>"
      ]
     },
     "execution_count": 24,
     "metadata": {},
     "output_type": "execute_result"
    }
   ],
   "source": [
    "stock_code = 468760\n",
    "url = url1 + str(stock_code)\n",
    "html = requests.get(url) \n",
    "soup = BeautifulSoup(html.text, 'html.parser')\n",
    "ulTag = soup.find('div', class_='wrap_company')\n",
    "ulTag"
   ]
  },
  {
   "cell_type": "code",
   "execution_count": 33,
   "metadata": {},
   "outputs": [
    {
     "data": {
      "text/plain": [
       "<h2><a href=\"#\" onclick=\"clickcr(this, 'sop.title', '', '', event);window.location.reload();\">유진스팩10호</a></h2>"
      ]
     },
     "execution_count": 33,
     "metadata": {},
     "output_type": "execute_result"
    }
   ],
   "source": [
    "dlTag = ulTag.find('h2')\n",
    "dlTag"
   ]
  },
  {
   "cell_type": "code",
   "execution_count": 37,
   "metadata": {},
   "outputs": [
    {
     "data": {
      "text/plain": [
       "str"
      ]
     },
     "execution_count": 37,
     "metadata": {},
     "output_type": "execute_result"
    }
   ],
   "source": [
    "type(dlTag.text)"
   ]
  },
  {
   "cell_type": "code",
   "execution_count": 17,
   "metadata": {},
   "outputs": [
    {
     "data": {
      "text/plain": [
       "<p class=\"no_today\">\n",
       "<em class=\"no_up\">\n",
       "<span class=\"blind\">2,230</span>\n",
       "<span class=\"no2\">2</span><span class=\"shim\">,</span><span class=\"no2\">2</span><span class=\"no3\">3</span><span class=\"no0\">0</span>\n",
       "</em>\n",
       "</p>"
      ]
     },
     "execution_count": 17,
     "metadata": {},
     "output_type": "execute_result"
    }
   ],
   "source": [
    "ulTag = soup.find('p', class_='no_today')\n",
    "ulTag"
   ]
  },
  {
   "cell_type": "code",
   "execution_count": 20,
   "metadata": {},
   "outputs": [
    {
     "data": {
      "text/plain": [
       "'2,230'"
      ]
     },
     "execution_count": 20,
     "metadata": {},
     "output_type": "execute_result"
    }
   ],
   "source": [
    "dlTag = ulTag.find('span')\n",
    "dlTag.text"
   ]
  },
  {
   "cell_type": "code",
   "execution_count": 36,
   "metadata": {},
   "outputs": [
    {
     "data": {
      "text/plain": [
       "'2024.02.29 기준(장마감)'"
      ]
     },
     "execution_count": 36,
     "metadata": {},
     "output_type": "execute_result"
    }
   ],
   "source": [
    "ulTag = soup.find('em', class_='date')\n",
    "ulTag.text"
   ]
  },
  {
   "cell_type": "code",
   "execution_count": 14,
   "metadata": {},
   "outputs": [
    {
     "data": {
      "text/plain": [
       "'2024.02.29 기준(장마감)'"
      ]
     },
     "execution_count": 14,
     "metadata": {},
     "output_type": "execute_result"
    }
   ],
   "source": [
    "dlTag = ulTag.find('em')\n",
    "dlTag.text"
   ]
  },
  {
   "cell_type": "code",
   "execution_count": 40,
   "metadata": {},
   "outputs": [],
   "source": [
    "import requests\n",
    "from bs4 import BeautifulSoup\n",
    "import os\n",
    "import openpyxl\n",
    "url1 = 'https://finance.naver.com/item/main.naver?code='\n",
    "codeLst = [] \n",
    "stock_name = []\n",
    "date = []\n",
    "price = []"
   ]
  },
  {
   "cell_type": "code",
   "execution_count": 44,
   "metadata": {},
   "outputs": [],
   "source": [
    "for i in range(5):\n",
    "    \n",
    "    stock_code = input('주식코드 입력: ')\n",
    "    codeLst.append(stock_code)\n",
    "    url = url1 + str(codeLst[i])\n",
    "    html = requests.get(url) \n",
    "    soup = BeautifulSoup(html.text, 'html.parser')\n",
    "\n",
    "    ulTag = soup.find('div', class_='wrap_company')\n",
    "    dlTag = ulTag.find('h2')\n",
    "    stock_name.append(dlTag.text)\n",
    "    \n",
    "    ulTag = soup.find('p', class_='no_today')\n",
    "    dlTag = ulTag.find('span')\n",
    "    price.append(dlTag.text)\n",
    "\n",
    "    ulTag = soup.find('em', class_='date')\n",
    "    date.append(ulTag.text)"
   ]
  },
  {
   "cell_type": "code",
   "execution_count": null,
   "metadata": {},
   "outputs": [],
   "source": []
  },
  {
   "cell_type": "code",
   "execution_count": null,
   "metadata": {},
   "outputs": [],
   "source": []
  }
 ],
 "metadata": {
  "kernelspec": {
   "display_name": "py_project",
   "language": "python",
   "name": "python3"
  },
  "language_info": {
   "codemirror_mode": {
    "name": "ipython",
    "version": 3
   },
   "file_extension": ".py",
   "mimetype": "text/x-python",
   "name": "python",
   "nbconvert_exporter": "python",
   "pygments_lexer": "ipython3",
   "version": "3.10.11"
  }
 },
 "nbformat": 4,
 "nbformat_minor": 2
}
