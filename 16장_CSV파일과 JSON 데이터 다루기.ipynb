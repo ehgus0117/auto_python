{
 "cells": [
  {
   "cell_type": "code",
   "execution_count": 5,
   "metadata": {},
   "outputs": [
    {
     "data": {
      "text/plain": [
       "<_csv.reader at 0x293da76eaa0>"
      ]
     },
     "execution_count": 5,
     "metadata": {},
     "output_type": "execute_result"
    }
   ],
   "source": [
    "import csv\n",
    "exampleFile = open('example.csv')\n",
    "exampleReader = csv.reader(exampleFile)\n",
    "exampleReader"
   ]
  },
  {
   "cell_type": "code",
   "execution_count": 6,
   "metadata": {},
   "outputs": [
    {
     "data": {
      "text/plain": [
       "[['2015-04-05 13:34', 'Apples', '73'],\n",
       " ['2015-04-05 3:41', 'Cherries', '85'],\n",
       " ['2015-04-06 12:46', 'Pears', '14'],\n",
       " ['2015-04-08 8:59', 'Oranges', '52'],\n",
       " ['2015-04-10 2:07', 'Apples', '152'],\n",
       " ['2015-04-10 18:10', 'Bananas', '23'],\n",
       " ['2015-04-10 2:40', 'Strawberries', '98']]"
      ]
     },
     "execution_count": 6,
     "metadata": {},
     "output_type": "execute_result"
    }
   ],
   "source": [
    "exampleData = list(exampleReader)\n",
    "exampleData"
   ]
  },
  {
   "cell_type": "code",
   "execution_count": 7,
   "metadata": {},
   "outputs": [
    {
     "name": "stdout",
     "output_type": "stream",
     "text": [
      "['2015-04-05 13:34', 'Apples', '73']\n",
      "['2015-04-05 3:41', 'Cherries', '85']\n",
      "['2015-04-06 12:46', 'Pears', '14']\n",
      "['2015-04-08 8:59', 'Oranges', '52']\n",
      "['2015-04-10 2:07', 'Apples', '152']\n",
      "['2015-04-10 18:10', 'Bananas', '23']\n",
      "['2015-04-10 2:40', 'Strawberries', '98']\n"
     ]
    }
   ],
   "source": [
    "for i in exampleData:\n",
    "    print(i)"
   ]
  },
  {
   "cell_type": "code",
   "execution_count": 9,
   "metadata": {},
   "outputs": [
    {
     "data": {
      "text/plain": [
       "'Apples'"
      ]
     },
     "execution_count": 9,
     "metadata": {},
     "output_type": "execute_result"
    }
   ],
   "source": [
    "exampleData[0][1]"
   ]
  },
  {
   "cell_type": "code",
   "execution_count": 10,
   "metadata": {},
   "outputs": [
    {
     "data": {
      "text/plain": [
       "'Bananas'"
      ]
     },
     "execution_count": 10,
     "metadata": {},
     "output_type": "execute_result"
    }
   ],
   "source": [
    "exampleData[-2][1]"
   ]
  },
  {
   "cell_type": "code",
   "execution_count": 11,
   "metadata": {},
   "outputs": [
    {
     "name": "stdout",
     "output_type": "stream",
     "text": [
      "row #1 ['2015-04-05 13:34', 'Apples', '73']\n",
      "row #2 ['2015-04-05 3:41', 'Cherries', '85']\n",
      "row #3 ['2015-04-06 12:46', 'Pears', '14']\n",
      "row #4 ['2015-04-08 8:59', 'Oranges', '52']\n",
      "row #5 ['2015-04-10 2:07', 'Apples', '152']\n",
      "row #6 ['2015-04-10 18:10', 'Bananas', '23']\n",
      "row #7 ['2015-04-10 2:40', 'Strawberries', '98']\n"
     ]
    }
   ],
   "source": [
    "exampleFile = open('example.csv')\n",
    "exampleReader = csv.reader(exampleFile)\n",
    "for row in exampleReader:\n",
    "    print('row #' + str(exampleReader.line_num) + ' ' + str(row))"
   ]
  },
  {
   "cell_type": "code",
   "execution_count": null,
   "metadata": {},
   "outputs": [],
   "source": []
  }
 ],
 "metadata": {
  "kernelspec": {
   "display_name": "py_project",
   "language": "python",
   "name": "python3"
  },
  "language_info": {
   "codemirror_mode": {
    "name": "ipython",
    "version": 3
   },
   "file_extension": ".py",
   "mimetype": "text/x-python",
   "name": "python",
   "nbconvert_exporter": "python",
   "pygments_lexer": "ipython3",
   "version": "3.10.11"
  }
 },
 "nbformat": 4,
 "nbformat_minor": 2
}
