{
 "cells": [
  {
   "cell_type": "code",
   "execution_count": 5,
   "metadata": {},
   "outputs": [
    {
     "data": {
      "text/plain": [
       "<_csv.reader at 0x293da76eaa0>"
      ]
     },
     "execution_count": 5,
     "metadata": {},
     "output_type": "execute_result"
    }
   ],
   "source": [
    "import csv\n",
    "exampleFile = open('example.csv')\n",
    "exampleReader = csv.reader(exampleFile)\n",
    "exampleReader"
   ]
  },
  {
   "cell_type": "code",
   "execution_count": 6,
   "metadata": {},
   "outputs": [
    {
     "data": {
      "text/plain": [
       "[['2015-04-05 13:34', 'Apples', '73'],\n",
       " ['2015-04-05 3:41', 'Cherries', '85'],\n",
       " ['2015-04-06 12:46', 'Pears', '14'],\n",
       " ['2015-04-08 8:59', 'Oranges', '52'],\n",
       " ['2015-04-10 2:07', 'Apples', '152'],\n",
       " ['2015-04-10 18:10', 'Bananas', '23'],\n",
       " ['2015-04-10 2:40', 'Strawberries', '98']]"
      ]
     },
     "execution_count": 6,
     "metadata": {},
     "output_type": "execute_result"
    }
   ],
   "source": [
    "exampleData = list(exampleReader)\n",
    "exampleData"
   ]
  },
  {
   "cell_type": "code",
   "execution_count": 7,
   "metadata": {},
   "outputs": [
    {
     "name": "stdout",
     "output_type": "stream",
     "text": [
      "['2015-04-05 13:34', 'Apples', '73']\n",
      "['2015-04-05 3:41', 'Cherries', '85']\n",
      "['2015-04-06 12:46', 'Pears', '14']\n",
      "['2015-04-08 8:59', 'Oranges', '52']\n",
      "['2015-04-10 2:07', 'Apples', '152']\n",
      "['2015-04-10 18:10', 'Bananas', '23']\n",
      "['2015-04-10 2:40', 'Strawberries', '98']\n"
     ]
    }
   ],
   "source": [
    "for i in exampleData:\n",
    "    print(i)"
   ]
  },
  {
   "cell_type": "code",
   "execution_count": 9,
   "metadata": {},
   "outputs": [
    {
     "data": {
      "text/plain": [
       "'Apples'"
      ]
     },
     "execution_count": 9,
     "metadata": {},
     "output_type": "execute_result"
    }
   ],
   "source": [
    "exampleData[0][1]"
   ]
  },
  {
   "cell_type": "code",
   "execution_count": 10,
   "metadata": {},
   "outputs": [
    {
     "data": {
      "text/plain": [
       "'Bananas'"
      ]
     },
     "execution_count": 10,
     "metadata": {},
     "output_type": "execute_result"
    }
   ],
   "source": [
    "exampleData[-2][1]"
   ]
  },
  {
   "cell_type": "code",
   "execution_count": 11,
   "metadata": {},
   "outputs": [
    {
     "name": "stdout",
     "output_type": "stream",
     "text": [
      "row #1 ['2015-04-05 13:34', 'Apples', '73']\n",
      "row #2 ['2015-04-05 3:41', 'Cherries', '85']\n",
      "row #3 ['2015-04-06 12:46', 'Pears', '14']\n",
      "row #4 ['2015-04-08 8:59', 'Oranges', '52']\n",
      "row #5 ['2015-04-10 2:07', 'Apples', '152']\n",
      "row #6 ['2015-04-10 18:10', 'Bananas', '23']\n",
      "row #7 ['2015-04-10 2:40', 'Strawberries', '98']\n"
     ]
    }
   ],
   "source": [
    "exampleFile = open('example.csv')\n",
    "exampleReader = csv.reader(exampleFile)\n",
    "for row in exampleReader:\n",
    "    print('row #' + str(exampleReader.line_num) + ' ' + str(row))"
   ]
  },
  {
   "cell_type": "code",
   "execution_count": 4,
   "metadata": {},
   "outputs": [],
   "source": [
    "import csv\n",
    "\n",
    "outputFile = open('output.csv', 'w', newline= '')\n",
    "outputWriter = csv.writer(outputFile)\n",
    "\n",
    "outputWriter.writerow(['spam', 'eggs', 'bacon', 'ham'])\n",
    "outputWriter.writerow(['hello, world!', 'eggs', 'bacon', 'ham'])\n",
    "outputWriter.writerow([1, 2, 3.141592, 4])\n",
    "\n",
    "outputFile.close()"
   ]
  },
  {
   "cell_type": "code",
   "execution_count": 6,
   "metadata": {},
   "outputs": [],
   "source": [
    "csvFile = open('example.tsv', 'w', newline='')\n",
    "csvWriter = csv.writer(csvFile, delimiter='\\t', lineterminator='\\n\\n')\n",
    "csvWriter.writerow(['spam', 'eggs', 'bacon', 'ham'])\n",
    "csvWriter.writerow(['hello, world!', 'eggs', 'bacon', 'ham'])\n",
    "csvFile.close()"
   ]
  },
  {
   "cell_type": "markdown",
   "metadata": {},
   "source": [
    "- CSV 객체의 DictReader와 DictWriter"
   ]
  },
  {
   "cell_type": "code",
   "execution_count": 7,
   "metadata": {},
   "outputs": [
    {
     "data": {
      "text/plain": [
       "<csv.DictReader at 0x24da9457280>"
      ]
     },
     "execution_count": 7,
     "metadata": {},
     "output_type": "execute_result"
    }
   ],
   "source": [
    "exampleFile = open('exampleWithHeader.csv')\n",
    "exampleDictReader = csv.DictReader(exampleFile)\n",
    "exampleDictReader"
   ]
  },
  {
   "cell_type": "code",
   "execution_count": 8,
   "metadata": {},
   "outputs": [
    {
     "name": "stdout",
     "output_type": "stream",
     "text": [
      "4/5/2014 13:34 Apples 73\n",
      "4/5/2014 3:41 Cherries 85\n",
      "4/6/2014 12:46 Pears 14\n",
      "4/8/2014 8:59 Oranges 52\n",
      "4/10/2014 2:07 Apples 152\n",
      "4/10/2014 18:10 Bananas 23\n",
      "4/10/2014 2:40 Strawberries 98\n"
     ]
    }
   ],
   "source": [
    "for row in exampleDictReader:\n",
    "    print(row['Timestamp'], row['Fruit'], row['Quantity'])"
   ]
  },
  {
   "cell_type": "code",
   "execution_count": 11,
   "metadata": {},
   "outputs": [],
   "source": [
    "outputFile = open('output.csv', 'w', newline='')\n",
    "outputDictWriter = csv.DictWriter(outputFile, ['Name', 'Pet', 'Phone'])\n",
    "outputDictWriter.writeheader()\n",
    "\n",
    "outputDictWriter.writerow({'Name': 'Alice', 'Pet': 'cat', 'Phone': '555-1234'})\n",
    "outputDictWriter.writerow({'Name': 'Bob', 'Phone': '555-9999'})\n",
    "outputDictWriter.writerow({'Phone': '555-5555', 'Name': 'Carol', 'Pet': 'dog'})\n",
    "\n",
    "outputFile.close()"
   ]
  },
  {
   "cell_type": "code",
   "execution_count": 12,
   "metadata": {},
   "outputs": [
    {
     "data": {
      "text/plain": [
       "{'name': 'Zophie', 'isCat': True, 'miceCaught': 0, 'felineIQ': None}"
      ]
     },
     "execution_count": 12,
     "metadata": {},
     "output_type": "execute_result"
    }
   ],
   "source": [
    "import json\n",
    "\n",
    "stringOfData = '{\"name\": \"Zophie\", \"isCat\": true, \"miceCaught\": 0, \"felineIQ\": null}'\n",
    "\n",
    "jasonDataAsPythonValue = json.loads(stringOfData)\n",
    "jasonDataAsPythonValue"
   ]
  },
  {
   "cell_type": "code",
   "execution_count": 13,
   "metadata": {},
   "outputs": [
    {
     "data": {
      "text/plain": [
       "'Zophie'"
      ]
     },
     "execution_count": 13,
     "metadata": {},
     "output_type": "execute_result"
    }
   ],
   "source": [
    "jasonDataAsPythonValue['name']"
   ]
  },
  {
   "cell_type": "code",
   "execution_count": 14,
   "metadata": {},
   "outputs": [
    {
     "data": {
      "text/plain": [
       "True"
      ]
     },
     "execution_count": 14,
     "metadata": {},
     "output_type": "execute_result"
    }
   ],
   "source": [
    "jasonDataAsPythonValue['isCat']"
   ]
  },
  {
   "cell_type": "code",
   "execution_count": 15,
   "metadata": {},
   "outputs": [
    {
     "data": {
      "text/plain": [
       "dict"
      ]
     },
     "execution_count": 15,
     "metadata": {},
     "output_type": "execute_result"
    }
   ],
   "source": [
    "type(jasonDataAsPythonValue)"
   ]
  },
  {
   "cell_type": "code",
   "execution_count": null,
   "metadata": {},
   "outputs": [],
   "source": []
  }
 ],
 "metadata": {
  "kernelspec": {
   "display_name": "py_project",
   "language": "python",
   "name": "python3"
  },
  "language_info": {
   "codemirror_mode": {
    "name": "ipython",
    "version": 3
   },
   "file_extension": ".py",
   "mimetype": "text/x-python",
   "name": "python",
   "nbconvert_exporter": "python",
   "pygments_lexer": "ipython3",
   "version": "3.10.11"
  }
 },
 "nbformat": 4,
 "nbformat_minor": 2
}
